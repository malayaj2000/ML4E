{
 "cells": [
  {
   "cell_type": "markdown",
   "metadata": {},
   "source": [
    "# crop damage prediction \n",
    "# Alive = 0  damage due to other reason =1 damage due to pesticide=2 "
   ]
  },
  {
   "cell_type": "markdown",
   "metadata": {},
   "source": [
    "## Importing dependencies"
   ]
  },
  {
   "cell_type": "code",
   "execution_count": null,
   "metadata": {},
   "outputs": [],
   "source": [
    "import numpy as np\n",
    "import pandas as pd\n",
    "import matplotlib.pyplot as plt\n",
    "import seaborn as sns"
   ]
  },
  {
   "cell_type": "markdown",
   "metadata": {},
   "source": [
    "## Loading trainingset and test set"
   ]
  },
  {
   "cell_type": "code",
   "execution_count": null,
   "metadata": {},
   "outputs": [],
   "source": [
    "\n",
    "train=pd.read_csv('train.csv')\n",
    "test=pd.read_csv('test.csv')"
   ]
  },
  {
   "cell_type": "markdown",
   "metadata": {},
   "source": [
    "# EDA on training set"
   ]
  },
  {
   "cell_type": "code",
   "execution_count": null,
   "metadata": {},
   "outputs": [],
   "source": [
    "# checking the shape of the training\n",
    "train.shape"
   ]
  },
  {
   "cell_type": "code",
   "execution_count": null,
   "metadata": {},
   "outputs": [],
   "source": [
    "# print 1st 6 lines of traoning set\n",
    "train.head(n=6)"
   ]
  },
  {
   "cell_type": "code",
   "execution_count": null,
   "metadata": {},
   "outputs": [],
   "source": [
    "# get info about variors attribute and respctive dtype\n",
    "train.info()"
   ]
  },
  {
   "cell_type": "code",
   "execution_count": null,
   "metadata": {},
   "outputs": [],
   "source": [
    "# basis statistical analysis on training set\n",
    "train.describe()"
   ]
  },
  {
   "cell_type": "code",
   "execution_count": null,
   "metadata": {},
   "outputs": [],
   "source": [
    "# checking if there is any null values in training set\n",
    "train.isnull().sum()"
   ]
  },
  {
   "cell_type": "code",
   "execution_count": null,
   "metadata": {},
   "outputs": [],
   "source": [
    "#heat map repesntstion of null values\n",
    "sns.heatmap(train.isnull(),yticklabels=False)"
   ]
  },
  {
   "cell_type": "code",
   "execution_count": null,
   "metadata": {},
   "outputs": [],
   "source": [
    "# to get number of unique values in training set attributes\n",
    "train.iloc[:,0:-1].nunique()\n"
   ]
  },
  {
   "cell_type": "code",
   "execution_count": null,
   "metadata": {},
   "outputs": [],
   "source": [
    "# to get number of unique values traget variable\n",
    "train.iloc[:,-1].unique()"
   ]
  },
  {
   "cell_type": "code",
   "execution_count": null,
   "metadata": {},
   "outputs": [],
   "source": [
    "# Histogram of 'Estimated_Insects_Count'\n",
    "sns.set_style('darkgrid')\n",
    "sns.distplot(train['Estimated_Insects_Count'],kde=False)"
   ]
  },
  {
   "cell_type": "code",
   "execution_count": null,
   "metadata": {},
   "outputs": [],
   "source": [
    "# Histogram of 'Crop_Type'\n",
    "sns.set_style('darkgrid')\n",
    "sns.distplot(train['Crop_Type'],kde=False)"
   ]
  },
  {
   "cell_type": "code",
   "execution_count": null,
   "metadata": {},
   "outputs": [],
   "source": [
    "# Histogram of 'Soil_Type'\n",
    "sns.set_style('darkgrid')\n",
    "sns.distplot(train['Soil_Type'],kde=False)"
   ]
  },
  {
   "cell_type": "code",
   "execution_count": null,
   "metadata": {},
   "outputs": [],
   "source": [
    "# Histogram of 'Number_Doses_Week of pesticides'\n",
    "sns.distplot(train['Number_Doses_Week'],kde=False)\n",
    "# 20 doses per week is usesd mostly"
   ]
  },
  {
   "cell_type": "code",
   "execution_count": null,
   "metadata": {},
   "outputs": [],
   "source": [
    "# Histogram of 'Crop_Damage'\n",
    "sns.distplot(train['Crop_Damage'],kde=False)\n",
    "# most of the crop are alive ~0\n",
    "# little more than 10000 is damaged due to other reasons ~ 1\n",
    "# very few number of crop are damaged due to pesticide ~ 2\n",
    "\n",
    "# our target should to develop  a model so that it can generalise the prediction\n",
    "# predict all 3 classes especially class \"2\" which have relativly few training eg "
   ]
  },
  {
   "cell_type": "code",
   "execution_count": null,
   "metadata": {},
   "outputs": [],
   "source": [
    "# Box plot of 'Crop_Damage' vs 'Number_Weeks_Used'\n",
    "sns.set_style('darkgrid')\n",
    "sns.boxplot(x='Crop_Damage',y='Number_Weeks_Used',data=train )\n"
   ]
  },
  {
   "cell_type": "code",
   "execution_count": null,
   "metadata": {},
   "outputs": [],
   "source": [
    "# Box plot of 'pesticides use catagory' vs 'Number_Weeks_Used'\n",
    "# 1~never used\n",
    "# 2~previously used\n",
    "# 3~ currently in use\n",
    "sns.set_style('darkgrid')\n",
    "sns.boxplot(x='Pesticide_Use_Category',y='Number_Weeks_Used',data=train )\n",
    "#  median class 1 ~ 0 \n",
    "#  median class 2 ~ 25 \n",
    "#  median class 3 ~ 35\n",
    "# these value r crucial for data cleaing\n"
   ]
  },
  {
   "cell_type": "code",
   "execution_count": null,
   "metadata": {},
   "outputs": [],
   "source": [
    "# correlation coefficent \n",
    "train['Number_Weeks_Used'].corr(train['Pesticide_Use_Category'])"
   ]
  },
  {
   "cell_type": "code",
   "execution_count": null,
   "metadata": {},
   "outputs": [],
   "source": [
    "# to check how pesticide affect crop damage\n",
    "sns.countplot(x=train['Crop_Damage'],hue=train['Pesticide_Use_Category'])"
   ]
  },
  {
   "cell_type": "code",
   "execution_count": null,
   "metadata": {},
   "outputs": [],
   "source": [
    "# to check how season affect crop damage\n",
    "sns.countplot(x=train['Crop_Damage'],hue=train['Season'])"
   ]
  },
  {
   "cell_type": "markdown",
   "metadata": {},
   "source": [
    "## Data preprocessing"
   ]
  },
  {
   "cell_type": "code",
   "execution_count": null,
   "metadata": {},
   "outputs": [],
   "source": [
    "# \"ID\" value is not required for prediction\n",
    "train.drop('ID',axis=1,inplace=True)"
   ]
  },
  {
   "cell_type": "markdown",
   "metadata": {},
   "source": [
    "### Filling Missing values"
   ]
  },
  {
   "cell_type": "code",
   "execution_count": null,
   "metadata": {},
   "outputs": [],
   "source": [
    "# when pesticide class==1 then  Number_Weeks_Used=0\n",
    "# when pesticide class==2 then  Number_Weeks_Used=25\n",
    "# when pesticide class==3 then  Number_Weeks_Used=35\n",
    "def missing(c):\n",
    "    Number_Weeks_Used=c[0]\n",
    "    Pesticide_Use_Category=c[1]\n",
    "    if pd.isnull(Number_Weeks_Used):\n",
    "        if Pesticide_Use_Category==1:\n",
    "            return 0\n",
    "        elif Pesticide_Use_Category==2:\n",
    "            return 25\n",
    "        else:\n",
    "            return 35\n",
    "    else:\n",
    "        return Number_Weeks_Used"
   ]
  },
  {
   "cell_type": "code",
   "execution_count": null,
   "metadata": {},
   "outputs": [],
   "source": [
    "# applying missing( ) to traing set and test set \n",
    "train['Number_Weeks_Used']=train[['Number_Weeks_Used','Pesticide_Use_Category']].apply(missing,axis=1)\n",
    "test['Number_Weeks_Used']=test[['Number_Weeks_Used','Pesticide_Use_Category']].apply(missing,axis=1)"
   ]
  },
  {
   "cell_type": "code",
   "execution_count": null,
   "metadata": {},
   "outputs": [],
   "source": [
    "# to check if all null values are filled\n",
    "train.isnull().sum()"
   ]
  },
  {
   "cell_type": "code",
   "execution_count": null,
   "metadata": {},
   "outputs": [],
   "source": [
    "# separating  attribute(x) and labels(y)\n",
    "x=train.iloc[:,:-1].values\n",
    "y=train.iloc[:,-1].values\n",
    "x_test=test.iloc[:,1:].values"
   ]
  },
  {
   "cell_type": "code",
   "execution_count": null,
   "metadata": {},
   "outputs": [],
   "source": [
    "# spliting x and y into x_train , y_train and cross validation set (x_val,y_val)\n",
    "from sklearn.model_selection import train_test_split\n",
    "x_train,x_val,y_train,y_val=train_test_split(x,y,test_size=0.2,random_state=100)"
   ]
  },
  {
   "cell_type": "code",
   "execution_count": null,
   "metadata": {},
   "outputs": [],
   "source": [
    "# feature scaling\n",
    "from sklearn.preprocessing import StandardScaler\n",
    "sc=StandardScaler()\n",
    "x_train=sc.fit_transform(x_train)\n",
    "x_val=sc.transform(x_val)\n",
    "x_test=sc.transform(x_test)"
   ]
  },
  {
   "cell_type": "code",
   "execution_count": null,
   "metadata": {},
   "outputs": [],
   "source": [
    "# import random forest clasifier \n",
    "from sklearn.ensemble import RandomForestClassifier\n",
    "cal2=RandomForestClassifier(n_estimators=100,random_state=42,criterion='entropy') # creating object \"cal2\" of the class\n",
    "cal2.fit(x_train,y_train) # fitting x_training & y_train to \"cal2\""
   ]
  },
  {
   "cell_type": "code",
   "execution_count": null,
   "metadata": {},
   "outputs": [],
   "source": [
    "# import adaptive boosting to improve model\n",
    "from sklearn.ensemble import AdaBoostClassifier\n",
    "boost=AdaBoostClassifier(base_estimator=cal2,n_estimators=2, learning_rate=1.0, algorithm='SAMME.R', random_state=None)\n",
    "boost.fit(x_train,y_train)"
   ]
  },
  {
   "cell_type": "code",
   "execution_count": null,
   "metadata": {},
   "outputs": [],
   "source": [
    "# predicting the values of x_val\n",
    "y_pred2=boost.predict(x_val)"
   ]
  },
  {
   "cell_type": "code",
   "execution_count": null,
   "metadata": {},
   "outputs": [],
   "source": [
    "# getting confussion matrix and accuracy score\n",
    "from sklearn.metrics import confusion_matrix,accuracy_score\n",
    "cm=confusion_matrix(y_val,y_pred2)\n",
    "print(cm)\n",
    "accuracy_score(y_val,y_pred2)"
   ]
  },
  {
   "cell_type": "code",
   "execution_count": null,
   "metadata": {},
   "outputs": [],
   "source": [
    "# procduing classification report of model\n",
    "from sklearn.metrics import classification_report\n",
    "print(classification_report(y_val,y_pred2))"
   ]
  },
  {
   "cell_type": "code",
   "execution_count": null,
   "metadata": {},
   "outputs": [],
   "source": [
    "# precicting test set\n",
    "pred=boost.predict(x_test)"
   ]
  },
  {
   "cell_type": "code",
   "execution_count": null,
   "metadata": {},
   "outputs": [],
   "source": [
    "#writing prediction into \"sample_submission.csv\"\n",
    "df=pd.DataFrame(pred,test['ID'])\n",
    "df.rename(columns={0:'Crop_Damage'},inplace=True)\n",
    "df.to_csv('sample_submission.csv')"
   ]
  },
  {
   "cell_type": "code",
   "execution_count": null,
   "metadata": {},
   "outputs": [],
   "source": [
    "print(df)"
   ]
  },
  {
   "cell_type": "code",
   "execution_count": null,
   "metadata": {},
   "outputs": [],
   "source": []
  }
 ],
 "metadata": {
  "kernelspec": {
   "display_name": "Python 3",
   "language": "python",
   "name": "python3"
  },
  "language_info": {
   "codemirror_mode": {
    "name": "ipython",
    "version": 3
   },
   "file_extension": ".py",
   "mimetype": "text/x-python",
   "name": "python",
   "nbconvert_exporter": "python",
   "pygments_lexer": "ipython3",
   "version": "3.7.7"
  }
 },
 "nbformat": 4,
 "nbformat_minor": 4
}
